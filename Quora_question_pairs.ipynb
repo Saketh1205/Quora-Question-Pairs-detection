{
 "cells": [
  {
   "cell_type": "code",
   "execution_count": 1,
   "id": "a84d9a18",
   "metadata": {},
   "outputs": [
    {
     "name": "stderr",
     "output_type": "stream",
     "text": [
      "C:\\Users\\saket\\anaconda3\\envs\\Env_1\\lib\\site-packages\\paramiko\\transport.py:219: CryptographyDeprecationWarning: Blowfish has been deprecated\n",
      "  \"class\": algorithms.Blowfish,\n"
     ]
    }
   ],
   "source": [
    "import numpy as np\n",
    "import pandas as pd\n",
    "import matplotlib.pyplot as plt\n",
    "import seaborn as sns\n",
    "import gensim\n",
    "\n",
    "from sklearn.metrics import accuracy_score,confusion_matrix,precision_score, recall_score,classification_report\n",
    "from tensorflow.keras.models import Sequential\n",
    "from tensorflow.keras.layers import LSTM, Dense,Bidirectional\n",
    "from sklearn.feature_extraction.text import TfidfVectorizer\n",
    "import re\n",
    "from bs4 import BeautifulSoup\n",
    "import warnings\n",
    "warnings.filterwarnings(\"ignore\")"
   ]
  },
  {
   "cell_type": "code",
   "execution_count": 4,
   "id": "64158f12",
   "metadata": {},
   "outputs": [],
   "source": [
    "df = pd.read_csv('C:\\\\Users\\\\saket\\\\Downloads\\\\questions.csv')"
   ]
  },
  {
   "cell_type": "code",
   "execution_count": 5,
   "id": "917b9ed4",
   "metadata": {},
   "outputs": [
    {
     "data": {
      "text/html": [
       "<div>\n",
       "<style scoped>\n",
       "    .dataframe tbody tr th:only-of-type {\n",
       "        vertical-align: middle;\n",
       "    }\n",
       "\n",
       "    .dataframe tbody tr th {\n",
       "        vertical-align: top;\n",
       "    }\n",
       "\n",
       "    .dataframe thead th {\n",
       "        text-align: right;\n",
       "    }\n",
       "</style>\n",
       "<table border=\"1\" class=\"dataframe\">\n",
       "  <thead>\n",
       "    <tr style=\"text-align: right;\">\n",
       "      <th></th>\n",
       "      <th>id</th>\n",
       "      <th>qid1</th>\n",
       "      <th>qid2</th>\n",
       "      <th>question1</th>\n",
       "      <th>question2</th>\n",
       "      <th>is_duplicate</th>\n",
       "    </tr>\n",
       "  </thead>\n",
       "  <tbody>\n",
       "    <tr>\n",
       "      <th>0</th>\n",
       "      <td>0</td>\n",
       "      <td>1</td>\n",
       "      <td>2</td>\n",
       "      <td>What is the step by step guide to invest in sh...</td>\n",
       "      <td>What is the step by step guide to invest in sh...</td>\n",
       "      <td>0</td>\n",
       "    </tr>\n",
       "    <tr>\n",
       "      <th>1</th>\n",
       "      <td>1</td>\n",
       "      <td>3</td>\n",
       "      <td>4</td>\n",
       "      <td>What is the story of Kohinoor (Koh-i-Noor) Dia...</td>\n",
       "      <td>What would happen if the Indian government sto...</td>\n",
       "      <td>0</td>\n",
       "    </tr>\n",
       "    <tr>\n",
       "      <th>2</th>\n",
       "      <td>2</td>\n",
       "      <td>5</td>\n",
       "      <td>6</td>\n",
       "      <td>How can I increase the speed of my internet co...</td>\n",
       "      <td>How can Internet speed be increased by hacking...</td>\n",
       "      <td>0</td>\n",
       "    </tr>\n",
       "    <tr>\n",
       "      <th>3</th>\n",
       "      <td>3</td>\n",
       "      <td>7</td>\n",
       "      <td>8</td>\n",
       "      <td>Why am I mentally very lonely? How can I solve...</td>\n",
       "      <td>Find the remainder when [math]23^{24}[/math] i...</td>\n",
       "      <td>0</td>\n",
       "    </tr>\n",
       "    <tr>\n",
       "      <th>4</th>\n",
       "      <td>4</td>\n",
       "      <td>9</td>\n",
       "      <td>10</td>\n",
       "      <td>Which one dissolve in water quikly sugar, salt...</td>\n",
       "      <td>Which fish would survive in salt water?</td>\n",
       "      <td>0</td>\n",
       "    </tr>\n",
       "    <tr>\n",
       "      <th>...</th>\n",
       "      <td>...</td>\n",
       "      <td>...</td>\n",
       "      <td>...</td>\n",
       "      <td>...</td>\n",
       "      <td>...</td>\n",
       "      <td>...</td>\n",
       "    </tr>\n",
       "    <tr>\n",
       "      <th>404346</th>\n",
       "      <td>404346</td>\n",
       "      <td>789792</td>\n",
       "      <td>789793</td>\n",
       "      <td>How many keywords are there in the Racket prog...</td>\n",
       "      <td>How many keywords are there in PERL Programmin...</td>\n",
       "      <td>0</td>\n",
       "    </tr>\n",
       "    <tr>\n",
       "      <th>404347</th>\n",
       "      <td>404347</td>\n",
       "      <td>789794</td>\n",
       "      <td>789795</td>\n",
       "      <td>Do you believe there is life after death?</td>\n",
       "      <td>Is it true that there is life after death?</td>\n",
       "      <td>1</td>\n",
       "    </tr>\n",
       "    <tr>\n",
       "      <th>404348</th>\n",
       "      <td>404348</td>\n",
       "      <td>789796</td>\n",
       "      <td>789797</td>\n",
       "      <td>What is one coin?</td>\n",
       "      <td>What's this coin?</td>\n",
       "      <td>0</td>\n",
       "    </tr>\n",
       "    <tr>\n",
       "      <th>404349</th>\n",
       "      <td>404349</td>\n",
       "      <td>789798</td>\n",
       "      <td>789799</td>\n",
       "      <td>What is the approx annual cost of living while...</td>\n",
       "      <td>I am having little hairfall problem but I want...</td>\n",
       "      <td>0</td>\n",
       "    </tr>\n",
       "    <tr>\n",
       "      <th>404350</th>\n",
       "      <td>404350</td>\n",
       "      <td>789800</td>\n",
       "      <td>789801</td>\n",
       "      <td>What is like to have sex with cousin?</td>\n",
       "      <td>What is it like to have sex with your cousin?</td>\n",
       "      <td>0</td>\n",
       "    </tr>\n",
       "  </tbody>\n",
       "</table>\n",
       "<p>404351 rows × 6 columns</p>\n",
       "</div>"
      ],
      "text/plain": [
       "            id    qid1    qid2  \\\n",
       "0            0       1       2   \n",
       "1            1       3       4   \n",
       "2            2       5       6   \n",
       "3            3       7       8   \n",
       "4            4       9      10   \n",
       "...        ...     ...     ...   \n",
       "404346  404346  789792  789793   \n",
       "404347  404347  789794  789795   \n",
       "404348  404348  789796  789797   \n",
       "404349  404349  789798  789799   \n",
       "404350  404350  789800  789801   \n",
       "\n",
       "                                                question1  \\\n",
       "0       What is the step by step guide to invest in sh...   \n",
       "1       What is the story of Kohinoor (Koh-i-Noor) Dia...   \n",
       "2       How can I increase the speed of my internet co...   \n",
       "3       Why am I mentally very lonely? How can I solve...   \n",
       "4       Which one dissolve in water quikly sugar, salt...   \n",
       "...                                                   ...   \n",
       "404346  How many keywords are there in the Racket prog...   \n",
       "404347          Do you believe there is life after death?   \n",
       "404348                                  What is one coin?   \n",
       "404349  What is the approx annual cost of living while...   \n",
       "404350              What is like to have sex with cousin?   \n",
       "\n",
       "                                                question2  is_duplicate  \n",
       "0       What is the step by step guide to invest in sh...             0  \n",
       "1       What would happen if the Indian government sto...             0  \n",
       "2       How can Internet speed be increased by hacking...             0  \n",
       "3       Find the remainder when [math]23^{24}[/math] i...             0  \n",
       "4                 Which fish would survive in salt water?             0  \n",
       "...                                                   ...           ...  \n",
       "404346  How many keywords are there in PERL Programmin...             0  \n",
       "404347         Is it true that there is life after death?             1  \n",
       "404348                                  What's this coin?             0  \n",
       "404349  I am having little hairfall problem but I want...             0  \n",
       "404350      What is it like to have sex with your cousin?             0  \n",
       "\n",
       "[404351 rows x 6 columns]"
      ]
     },
     "execution_count": 5,
     "metadata": {},
     "output_type": "execute_result"
    }
   ],
   "source": [
    "df"
   ]
  },
  {
   "cell_type": "code",
   "execution_count": 92,
   "id": "fe308b9a",
   "metadata": {},
   "outputs": [
    {
     "data": {
      "text/plain": [
       "0    18918\n",
       "1    11082\n",
       "Name: is_duplicate, dtype: int64"
      ]
     },
     "execution_count": 92,
     "metadata": {},
     "output_type": "execute_result"
    }
   ],
   "source": [
    "new_df = df.sample(30000,random_state=2)\n",
    "new_df['is_duplicate'].value_counts()"
   ]
  },
  {
   "cell_type": "code",
   "execution_count": 93,
   "id": "c7c7d313",
   "metadata": {},
   "outputs": [
    {
     "data": {
      "text/plain": [
       "question1       How do I improve my English writing and speaki...\n",
       "question2       How can I improve my writing skills to become ...\n",
       "is_duplicate                                                    1\n",
       "Name: 45359, dtype: object"
      ]
     },
     "execution_count": 93,
     "metadata": {},
     "output_type": "execute_result"
    }
   ],
   "source": [
    "new_df[['question1','question2','is_duplicate']].iloc[8]"
   ]
  },
  {
   "cell_type": "code",
   "execution_count": 94,
   "id": "75662158",
   "metadata": {},
   "outputs": [],
   "source": [
    "#created a function for preprocessing the data\n",
    "\n",
    "def preprocess(q):\n",
    "    \n",
    "    q = str(q).lower().strip()\n",
    "    \n",
    "    # Replace certain special characters with their string equivalents\n",
    "    q = q.replace('%', ' percent')\n",
    "    q = q.replace('$', ' dollar ')\n",
    "    q = q.replace('₹', ' rupee ')\n",
    "    q = q.replace('€', ' euro ')\n",
    "    q = q.replace('@', ' at ')\n",
    "    \n",
    "    # The pattern '[math]' appears around 900 times in the whole dataset.\n",
    "    q = q.replace('[math]', '')\n",
    "    \n",
    "    # Replacing some numbers with string equivalents (not perfect, can be done better to account for more cases)\n",
    "    q = q.replace(',000,000,000 ', 'b ')\n",
    "    q = q.replace(',000,000 ', 'm ')\n",
    "    q = q.replace(',000 ', 'k ')\n",
    "    q = re.sub(r'([0-9]+)000000000', r'\\1b', q)\n",
    "    q = re.sub(r'([0-9]+)000000', r'\\1m', q)\n",
    "    q = re.sub(r'([0-9]+)000', r'\\1k', q)\n",
    "    \n",
    "    # Decontracting words\n",
    "    # https://en.wikipedia.org/wiki/Wikipedia%3aList_of_English_contractions\n",
    "    # https://stackoverflow.com/a/19794953\n",
    "    contractions = { \n",
    "    \"ain't\": \"am not\",\n",
    "    \"aren't\": \"are not\",\n",
    "    \"can't\": \"can not\",\n",
    "    \"can't've\": \"can not have\",\n",
    "    \"'cause\": \"because\",\n",
    "    \"could've\": \"could have\",\n",
    "    \"couldn't\": \"could not\",\n",
    "    \"couldn't've\": \"could not have\",\n",
    "    \"didn't\": \"did not\",\n",
    "    \"doesn't\": \"does not\",\n",
    "    \"don't\": \"do not\",\n",
    "    \"hadn't\": \"had not\",\n",
    "    \"hadn't've\": \"had not have\",\n",
    "    \"hasn't\": \"has not\",\n",
    "    \"haven't\": \"have not\",\n",
    "    \"he'd\": \"he would\",\n",
    "    \"he'd've\": \"he would have\",\n",
    "    \"he'll\": \"he will\",\n",
    "    \"he'll've\": \"he will have\",\n",
    "    \"he's\": \"he is\",\n",
    "    \"how'd\": \"how did\",\n",
    "    \"how'd'y\": \"how do you\",\n",
    "    \"how'll\": \"how will\",\n",
    "    \"how's\": \"how is\",\n",
    "    \"i'd\": \"i would\",\n",
    "    \"i'd've\": \"i would have\",\n",
    "    \"i'll\": \"i will\",\n",
    "    \"i'll've\": \"i will have\",\n",
    "    \"i'm\": \"i am\",\n",
    "    \"i've\": \"i have\",\n",
    "    \"isn't\": \"is not\",\n",
    "    \"it'd\": \"it would\",\n",
    "    \"it'd've\": \"it would have\",\n",
    "    \"it'll\": \"it will\",\n",
    "    \"it'll've\": \"it will have\",\n",
    "    \"it's\": \"it is\",\n",
    "    \"let's\": \"let us\",\n",
    "    \"ma'am\": \"madam\",\n",
    "    \"mayn't\": \"may not\",\n",
    "    \"might've\": \"might have\",\n",
    "    \"mightn't\": \"might not\",\n",
    "    \"mightn't've\": \"might not have\",\n",
    "    \"must've\": \"must have\",\n",
    "    \"mustn't\": \"must not\",\n",
    "    \"mustn't've\": \"must not have\",\n",
    "    \"needn't\": \"need not\",\n",
    "    \"needn't've\": \"need not have\",\n",
    "    \"o'clock\": \"of the clock\",\n",
    "    \"oughtn't\": \"ought not\",\n",
    "    \"oughtn't've\": \"ought not have\",\n",
    "    \"shan't\": \"shall not\",\n",
    "    \"sha'n't\": \"shall not\",\n",
    "    \"shan't've\": \"shall not have\",\n",
    "    \"she'd\": \"she would\",\n",
    "    \"she'd've\": \"she would have\",\n",
    "    \"she'll\": \"she will\",\n",
    "    \"she'll've\": \"she will have\",\n",
    "    \"she's\": \"she is\",\n",
    "    \"should've\": \"should have\",\n",
    "    \"shouldn't\": \"should not\",\n",
    "    \"shouldn't've\": \"should not have\",\n",
    "    \"so've\": \"so have\",\n",
    "    \"so's\": \"so as\",\n",
    "    \"that'd\": \"that would\",\n",
    "    \"that'd've\": \"that would have\",\n",
    "    \"that's\": \"that is\",\n",
    "    \"there'd\": \"there would\",\n",
    "    \"there'd've\": \"there would have\",\n",
    "    \"there's\": \"there is\",\n",
    "    \"they'd\": \"they would\",\n",
    "    \"they'd've\": \"they would have\",\n",
    "    \"they'll\": \"they will\",\n",
    "    \"they'll've\": \"they will have\",\n",
    "    \"they're\": \"they are\",\n",
    "    \"they've\": \"they have\",\n",
    "    \"to've\": \"to have\",\n",
    "    \"wasn't\": \"was not\",\n",
    "    \"we'd\": \"we would\",\n",
    "    \"we'd've\": \"we would have\",\n",
    "    \"we'll\": \"we will\",\n",
    "    \"we'll've\": \"we will have\",\n",
    "    \"we're\": \"we are\",\n",
    "    \"we've\": \"we have\",\n",
    "    \"weren't\": \"were not\",\n",
    "    \"what'll\": \"what will\",\n",
    "    \"what'll've\": \"what will have\",\n",
    "    \"what're\": \"what are\",\n",
    "    \"what's\": \"what is\",\n",
    "    \"what've\": \"what have\",\n",
    "    \"when's\": \"when is\",\n",
    "    \"when've\": \"when have\",\n",
    "    \"where'd\": \"where did\",\n",
    "    \"where's\": \"where is\",\n",
    "    \"where've\": \"where have\",\n",
    "    \"who'll\": \"who will\",\n",
    "    \"who'll've\": \"who will have\",\n",
    "    \"who's\": \"who is\",\n",
    "    \"who've\": \"who have\",\n",
    "    \"why's\": \"why is\",\n",
    "    \"why've\": \"why have\",\n",
    "    \"will've\": \"will have\",\n",
    "    \"won't\": \"will not\",\n",
    "    \"won't've\": \"will not have\",\n",
    "    \"would've\": \"would have\",\n",
    "    \"wouldn't\": \"would not\",\n",
    "    \"wouldn't've\": \"would not have\",\n",
    "    \"y'all\": \"you all\",\n",
    "    \"y'all'd\": \"you all would\",\n",
    "    \"y'all'd've\": \"you all would have\",\n",
    "    \"y'all're\": \"you all are\",\n",
    "    \"y'all've\": \"you all have\",\n",
    "    \"you'd\": \"you would\",\n",
    "    \"you'd've\": \"you would have\",\n",
    "    \"you'll\": \"you will\",\n",
    "    \"you'll've\": \"you will have\",\n",
    "    \"you're\": \"you are\",\n",
    "    \"you've\": \"you have\"\n",
    "    }\n",
    "\n",
    "    q_decontracted = []\n",
    "\n",
    "    for word in q.split():\n",
    "        if word in contractions:\n",
    "            word = contractions[word]\n",
    "\n",
    "        q_decontracted.append(word)\n",
    "\n",
    "    q = ' '.join(q_decontracted)\n",
    "    q = q.replace(\"'ve\", \" have\")\n",
    "    q = q.replace(\"n't\", \" not\")\n",
    "    q = q.replace(\"'re\", \" are\")\n",
    "    q = q.replace(\"'ll\", \" will\")\n",
    "    \n",
    "    # Removing HTML tags\n",
    "    q = BeautifulSoup(q)\n",
    "    q = q.get_text()\n",
    "    \n",
    "    # Remove punctuations\n",
    "    pattern = re.compile('\\W')\n",
    "    q = re.sub(pattern, ' ', q).strip()\n",
    "\n",
    "    \n",
    "    return q"
   ]
  },
  {
   "cell_type": "code",
   "execution_count": 95,
   "id": "f7dfcec2",
   "metadata": {},
   "outputs": [
    {
     "data": {
      "text/plain": [
       "'i have already  was not done'"
      ]
     },
     "execution_count": 95,
     "metadata": {},
     "output_type": "execute_result"
    }
   ],
   "source": [
    "#trying the preprocess function\n",
    "\n",
    "preprocess(\"I've already! wasn't <b>done</b>?\")"
   ]
  },
  {
   "cell_type": "code",
   "execution_count": 96,
   "id": "47be7777",
   "metadata": {},
   "outputs": [],
   "source": [
    "#preprocessing the data\n",
    "new_df['question1'] = new_df['question1'].apply(preprocess)\n",
    "new_df['question2'] = new_df['question2'].apply(preprocess)"
   ]
  },
  {
   "cell_type": "code",
   "execution_count": 97,
   "id": "2876709d",
   "metadata": {},
   "outputs": [
    {
     "data": {
      "text/html": [
       "<div>\n",
       "<style scoped>\n",
       "    .dataframe tbody tr th:only-of-type {\n",
       "        vertical-align: middle;\n",
       "    }\n",
       "\n",
       "    .dataframe tbody tr th {\n",
       "        vertical-align: top;\n",
       "    }\n",
       "\n",
       "    .dataframe thead th {\n",
       "        text-align: right;\n",
       "    }\n",
       "</style>\n",
       "<table border=\"1\" class=\"dataframe\">\n",
       "  <thead>\n",
       "    <tr style=\"text-align: right;\">\n",
       "      <th></th>\n",
       "      <th>id</th>\n",
       "      <th>qid1</th>\n",
       "      <th>qid2</th>\n",
       "      <th>question1</th>\n",
       "      <th>question2</th>\n",
       "      <th>is_duplicate</th>\n",
       "    </tr>\n",
       "  </thead>\n",
       "  <tbody>\n",
       "    <tr>\n",
       "      <th>339499</th>\n",
       "      <td>339499</td>\n",
       "      <td>665522</td>\n",
       "      <td>665523</td>\n",
       "      <td>why was cyrus mistry removed as the chairman o...</td>\n",
       "      <td>why did the tata sons sacked cyrus mistry</td>\n",
       "      <td>1</td>\n",
       "    </tr>\n",
       "    <tr>\n",
       "      <th>289521</th>\n",
       "      <td>289521</td>\n",
       "      <td>568878</td>\n",
       "      <td>568879</td>\n",
       "      <td>by what age would you think a man should be ma...</td>\n",
       "      <td>when my wrist is extended i feel a shock and b...</td>\n",
       "      <td>0</td>\n",
       "    </tr>\n",
       "    <tr>\n",
       "      <th>4665</th>\n",
       "      <td>4665</td>\n",
       "      <td>9325</td>\n",
       "      <td>9326</td>\n",
       "      <td>how would an arbitrageur seek to capitalize gi...</td>\n",
       "      <td>how would an arbitrageur seek to capitalize gi...</td>\n",
       "      <td>0</td>\n",
       "    </tr>\n",
       "    <tr>\n",
       "      <th>54203</th>\n",
       "      <td>54203</td>\n",
       "      <td>107861</td>\n",
       "      <td>107862</td>\n",
       "      <td>why did quora mark my question as incomplete</td>\n",
       "      <td>why does quora detect my question as an incomp...</td>\n",
       "      <td>1</td>\n",
       "    </tr>\n",
       "    <tr>\n",
       "      <th>132566</th>\n",
       "      <td>132566</td>\n",
       "      <td>262554</td>\n",
       "      <td>91499</td>\n",
       "      <td>what is it like working with pivotal labs as a...</td>\n",
       "      <td>what is it like to work at pivotal labs</td>\n",
       "      <td>0</td>\n",
       "    </tr>\n",
       "  </tbody>\n",
       "</table>\n",
       "</div>"
      ],
      "text/plain": [
       "            id    qid1    qid2  \\\n",
       "339499  339499  665522  665523   \n",
       "289521  289521  568878  568879   \n",
       "4665      4665    9325    9326   \n",
       "54203    54203  107861  107862   \n",
       "132566  132566  262554   91499   \n",
       "\n",
       "                                                question1  \\\n",
       "339499  why was cyrus mistry removed as the chairman o...   \n",
       "289521  by what age would you think a man should be ma...   \n",
       "4665    how would an arbitrageur seek to capitalize gi...   \n",
       "54203        why did quora mark my question as incomplete   \n",
       "132566  what is it like working with pivotal labs as a...   \n",
       "\n",
       "                                                question2  is_duplicate  \n",
       "339499          why did the tata sons sacked cyrus mistry             1  \n",
       "289521  when my wrist is extended i feel a shock and b...             0  \n",
       "4665    how would an arbitrageur seek to capitalize gi...             0  \n",
       "54203   why does quora detect my question as an incomp...             1  \n",
       "132566            what is it like to work at pivotal labs             0  "
      ]
     },
     "execution_count": 97,
     "metadata": {},
     "output_type": "execute_result"
    }
   ],
   "source": [
    "new_df.head()"
   ]
  },
  {
   "cell_type": "code",
   "execution_count": 98,
   "id": "0d99ce08",
   "metadata": {},
   "outputs": [],
   "source": [
    "#creating new features\n",
    "\n",
    "new_df['q1_len'] = new_df['question1'].str.len() \n",
    "new_df['q2_len'] = new_df['question2'].str.len()"
   ]
  },
  {
   "cell_type": "code",
   "execution_count": 99,
   "id": "e8903d38",
   "metadata": {},
   "outputs": [],
   "source": [
    "new_df['q1_num_words'] = new_df['question1'].apply(lambda row: len(row.split(\" \")))\n",
    "new_df['q2_num_words'] = new_df['question2'].apply(lambda row: len(row.split(\" \")))"
   ]
  },
  {
   "cell_type": "code",
   "execution_count": 100,
   "id": "d4c5aa5b",
   "metadata": {},
   "outputs": [],
   "source": [
    "def common_words(row):\n",
    "    w1 = set(map(lambda word: word.lower().strip(), row['question1'].split(\" \")))\n",
    "    w2 = set(map(lambda word: word.lower().strip(), row['question2'].split(\" \")))    \n",
    "    return len(w1 & w2)"
   ]
  },
  {
   "cell_type": "code",
   "execution_count": 101,
   "id": "2d05c2b8",
   "metadata": {},
   "outputs": [],
   "source": [
    "new_df['word_common'] = new_df.apply(common_words, axis=1)"
   ]
  },
  {
   "cell_type": "code",
   "execution_count": 102,
   "id": "d98ad952",
   "metadata": {},
   "outputs": [],
   "source": [
    "def total_words(row):\n",
    "    w1 = set(map(lambda word: word.lower().strip(), row['question1'].split(\" \")))\n",
    "    w2 = set(map(lambda word: word.lower().strip(), row['question2'].split(\" \")))    \n",
    "    return (len(w1) + len(w2))"
   ]
  },
  {
   "cell_type": "code",
   "execution_count": 103,
   "id": "4622dac3",
   "metadata": {},
   "outputs": [],
   "source": [
    "new_df['word_total'] = new_df.apply(total_words, axis=1)"
   ]
  },
  {
   "cell_type": "code",
   "execution_count": 104,
   "id": "10eda789",
   "metadata": {},
   "outputs": [],
   "source": [
    "new_df['word_share'] = round(new_df['word_common']/new_df['word_total'],2)"
   ]
  },
  {
   "cell_type": "code",
   "execution_count": 105,
   "id": "b770c9f7",
   "metadata": {},
   "outputs": [],
   "source": [
    "# Advanced Features\n",
    "from nltk.corpus import stopwords\n",
    "\n",
    "def fetch_token_features(row):\n",
    "    \n",
    "    q1 = row['question1']\n",
    "    q2 = row['question2']\n",
    "    \n",
    "    SAFE_DIV = 0.0001 \n",
    "\n",
    "    STOP_WORDS = stopwords.words(\"english\")\n",
    "    \n",
    "    token_features = [0.0]*8\n",
    "    \n",
    "    # Converting the Sentence into Tokens: \n",
    "    q1_tokens = q1.split()\n",
    "    q2_tokens = q2.split()\n",
    "    \n",
    "    if len(q1_tokens) == 0 or len(q2_tokens) == 0:\n",
    "        return token_features\n",
    "\n",
    "    # Get the non-stopwords in Questions\n",
    "    q1_words = set([word for word in q1_tokens if word not in STOP_WORDS])\n",
    "    q2_words = set([word for word in q2_tokens if word not in STOP_WORDS])\n",
    "    \n",
    "    #Get the stopwords in Questions\n",
    "    q1_stops = set([word for word in q1_tokens if word in STOP_WORDS])\n",
    "    q2_stops = set([word for word in q2_tokens if word in STOP_WORDS])\n",
    "    \n",
    "    # Get the common non-stopwords from Question pair\n",
    "    common_word_count = len(q1_words.intersection(q2_words))\n",
    "    \n",
    "    # Get the common stopwords from Question pair\n",
    "    common_stop_count = len(q1_stops.intersection(q2_stops))\n",
    "    \n",
    "    # Get the common Tokens from Question pair\n",
    "    common_token_count = len(set(q1_tokens).intersection(set(q2_tokens)))\n",
    "    \n",
    "    \n",
    "    token_features[0] = common_word_count / (min(len(q1_words), len(q2_words)) + SAFE_DIV)\n",
    "    token_features[1] = common_word_count / (max(len(q1_words), len(q2_words)) + SAFE_DIV)\n",
    "    token_features[2] = common_stop_count / (min(len(q1_stops), len(q2_stops)) + SAFE_DIV)\n",
    "    token_features[3] = common_stop_count / (max(len(q1_stops), len(q2_stops)) + SAFE_DIV)\n",
    "    token_features[4] = common_token_count / (min(len(q1_tokens), len(q2_tokens)) + SAFE_DIV)\n",
    "    token_features[5] = common_token_count / (max(len(q1_tokens), len(q2_tokens)) + SAFE_DIV)\n",
    "    \n",
    "    # Last word of both question is same or not\n",
    "    token_features[6] = int(q1_tokens[-1] == q2_tokens[-1])\n",
    "    \n",
    "    # First word of both question is same or not\n",
    "    token_features[7] = int(q1_tokens[0] == q2_tokens[0])\n",
    "    \n",
    "    return token_features"
   ]
  },
  {
   "cell_type": "code",
   "execution_count": 106,
   "id": "d7a3e3e7",
   "metadata": {},
   "outputs": [],
   "source": [
    "token_features = new_df.apply(fetch_token_features, axis=1)\n",
    "\n",
    "new_df[\"cwc_min\"]       = list(map(lambda x: x[0], token_features))\n",
    "new_df[\"cwc_max\"]       = list(map(lambda x: x[1], token_features))\n",
    "new_df[\"csc_min\"]       = list(map(lambda x: x[2], token_features))\n",
    "new_df[\"csc_max\"]       = list(map(lambda x: x[3], token_features))\n",
    "new_df[\"ctc_min\"]       = list(map(lambda x: x[4], token_features))\n",
    "new_df[\"ctc_max\"]       = list(map(lambda x: x[5], token_features))\n",
    "new_df[\"last_word_eq\"]  = list(map(lambda x: x[6], token_features))\n",
    "new_df[\"first_word_eq\"] = list(map(lambda x: x[7], token_features))"
   ]
  },
  {
   "cell_type": "code",
   "execution_count": 33,
   "id": "60f6d294",
   "metadata": {},
   "outputs": [
    {
     "name": "stdout",
     "output_type": "stream",
     "text": [
      "Collecting distance\n",
      "  Downloading Distance-0.1.3.tar.gz (180 kB)\n",
      "     ------------------------------------ 180.3/180.3 kB 402.9 kB/s eta 0:00:00\n",
      "  Preparing metadata (setup.py): started\n",
      "  Preparing metadata (setup.py): finished with status 'done'\n",
      "Building wheels for collected packages: distance\n",
      "  Building wheel for distance (setup.py): started\n",
      "  Building wheel for distance (setup.py): finished with status 'done'\n",
      "  Created wheel for distance: filename=Distance-0.1.3-py3-none-any.whl size=16282 sha256=4f1307e5a9f820080a7d988f7f5088ee85c09bcb0d75080ad8f4a878f2940ac2\n",
      "  Stored in directory: c:\\users\\saket\\appdata\\local\\pip\\cache\\wheels\\6a\\41\\b0\\39f403bd1fb459600f3ced3f74e8e88ffd5a409584a043785a\n",
      "Successfully built distance\n",
      "Installing collected packages: distance\n",
      "Successfully installed distance-0.1.3\n",
      "Note: you may need to restart the kernel to use updated packages.\n"
     ]
    },
    {
     "name": "stderr",
     "output_type": "stream",
     "text": [
      "WARNING: Ignoring invalid distribution -rotobuf (c:\\users\\saket\\anaconda3\\envs\\env_1\\lib\\site-packages)\n",
      "WARNING: Ignoring invalid distribution -rotobuf (c:\\users\\saket\\anaconda3\\envs\\env_1\\lib\\site-packages)\n",
      "WARNING: Ignoring invalid distribution -rotobuf (c:\\users\\saket\\anaconda3\\envs\\env_1\\lib\\site-packages)\n",
      "WARNING: Ignoring invalid distribution -rotobuf (c:\\users\\saket\\anaconda3\\envs\\env_1\\lib\\site-packages)\n",
      "WARNING: Ignoring invalid distribution -rotobuf (c:\\users\\saket\\anaconda3\\envs\\env_1\\lib\\site-packages)\n",
      "WARNING: Ignoring invalid distribution -rotobuf (c:\\users\\saket\\anaconda3\\envs\\env_1\\lib\\site-packages)\n",
      "WARNING: Ignoring invalid distribution -rotobuf (c:\\users\\saket\\anaconda3\\envs\\env_1\\lib\\site-packages)\n"
     ]
    }
   ],
   "source": [
    "pip install distance"
   ]
  },
  {
   "cell_type": "code",
   "execution_count": 107,
   "id": "76310110",
   "metadata": {},
   "outputs": [],
   "source": [
    "import distance"
   ]
  },
  {
   "cell_type": "code",
   "execution_count": 108,
   "id": "d48e18a7",
   "metadata": {},
   "outputs": [],
   "source": [
    "def fetch_length_features(row):\n",
    "    \n",
    "    q1 = row['question1']\n",
    "    q2 = row['question2']\n",
    "    \n",
    "    length_features = [0.0]*3\n",
    "    \n",
    "    # Converting the Sentence into Tokens: \n",
    "    q1_tokens = q1.split()\n",
    "    q2_tokens = q2.split()\n",
    "    \n",
    "    if len(q1_tokens) == 0 or len(q2_tokens) == 0:\n",
    "        return length_features\n",
    "    \n",
    "    # Absolute length features\n",
    "    length_features[0] = abs(len(q1_tokens) - len(q2_tokens))\n",
    "    \n",
    "    #Average Token Length of both Questions\n",
    "    length_features[1] = (len(q1_tokens) + len(q2_tokens))/2\n",
    "    \n",
    "    strs = list(distance.lcsubstrings(q1, q2))\n",
    "    length_features[2] = len(strs[0]) / (min(len(q1), len(q2)) + 1)\n",
    "    \n",
    "    return length_features"
   ]
  },
  {
   "cell_type": "code",
   "execution_count": 109,
   "id": "49bd1619",
   "metadata": {},
   "outputs": [],
   "source": [
    "length_features = new_df.apply(fetch_length_features, axis=1)\n",
    "\n",
    "new_df['abs_len_diff'] = list(map(lambda x: x[0], length_features))\n",
    "new_df['mean_len'] = list(map(lambda x: x[1], length_features))\n",
    "new_df['longest_substr_ratio'] = list(map(lambda x: x[2], length_features))"
   ]
  },
  {
   "cell_type": "code",
   "execution_count": 38,
   "id": "39186f2d",
   "metadata": {},
   "outputs": [
    {
     "name": "stdout",
     "output_type": "stream",
     "text": [
      "Collecting fuzzywuzzy\n",
      "  Downloading fuzzywuzzy-0.18.0-py2.py3-none-any.whl (18 kB)\n",
      "Installing collected packages: fuzzywuzzy\n",
      "Successfully installed fuzzywuzzy-0.18.0\n",
      "Note: you may need to restart the kernel to use updated packages.\n"
     ]
    },
    {
     "name": "stderr",
     "output_type": "stream",
     "text": [
      "WARNING: Ignoring invalid distribution -rotobuf (c:\\users\\saket\\anaconda3\\envs\\env_1\\lib\\site-packages)\n",
      "WARNING: Ignoring invalid distribution -rotobuf (c:\\users\\saket\\anaconda3\\envs\\env_1\\lib\\site-packages)\n",
      "WARNING: Ignoring invalid distribution -rotobuf (c:\\users\\saket\\anaconda3\\envs\\env_1\\lib\\site-packages)\n",
      "WARNING: Ignoring invalid distribution -rotobuf (c:\\users\\saket\\anaconda3\\envs\\env_1\\lib\\site-packages)\n",
      "WARNING: Ignoring invalid distribution -rotobuf (c:\\users\\saket\\anaconda3\\envs\\env_1\\lib\\site-packages)\n",
      "WARNING: Ignoring invalid distribution -rotobuf (c:\\users\\saket\\anaconda3\\envs\\env_1\\lib\\site-packages)\n",
      "WARNING: Ignoring invalid distribution -rotobuf (c:\\users\\saket\\anaconda3\\envs\\env_1\\lib\\site-packages)\n"
     ]
    }
   ],
   "source": [
    "pip install fuzzywuzzy"
   ]
  },
  {
   "cell_type": "code",
   "execution_count": 110,
   "id": "eb0eecb8",
   "metadata": {},
   "outputs": [],
   "source": [
    "# Fuzzy Features\n",
    "from fuzzywuzzy import fuzz\n",
    "\n",
    "def fetch_fuzzy_features(row):\n",
    "    \n",
    "    q1 = row['question1']\n",
    "    q2 = row['question2']\n",
    "    \n",
    "    fuzzy_features = [0.0]*4\n",
    "    \n",
    "    # fuzz_ratio\n",
    "    fuzzy_features[0] = fuzz.QRatio(q1, q2)\n",
    "\n",
    "    # fuzz_partial_ratio\n",
    "    fuzzy_features[1] = fuzz.partial_ratio(q1, q2)\n",
    "\n",
    "    # token_sort_ratio\n",
    "    fuzzy_features[2] = fuzz.token_sort_ratio(q1, q2)\n",
    "\n",
    "    # token_set_ratio\n",
    "    fuzzy_features[3] = fuzz.token_set_ratio(q1, q2)\n",
    "\n",
    "    return fuzzy_features"
   ]
  },
  {
   "cell_type": "code",
   "execution_count": 111,
   "id": "d1e225a8",
   "metadata": {},
   "outputs": [],
   "source": [
    "fuzzy_features = new_df.apply(fetch_fuzzy_features, axis=1)\n",
    "\n",
    "# Creating new feature columns for fuzzy features\n",
    "new_df['fuzz_ratio'] = list(map(lambda x: x[0], fuzzy_features))\n",
    "new_df['fuzz_partial_ratio'] = list(map(lambda x: x[1], fuzzy_features))\n",
    "new_df['token_sort_ratio'] = list(map(lambda x: x[2], fuzzy_features))\n",
    "new_df['token_set_ratio'] = list(map(lambda x: x[3], fuzzy_features))"
   ]
  },
  {
   "cell_type": "code",
   "execution_count": 112,
   "id": "af766206",
   "metadata": {},
   "outputs": [
    {
     "name": "stdout",
     "output_type": "stream",
     "text": [
      "(30000, 28)\n"
     ]
    }
   ],
   "source": [
    "print(new_df.shape)"
   ]
  },
  {
   "cell_type": "code",
   "execution_count": 113,
   "id": "702b4d61",
   "metadata": {},
   "outputs": [
    {
     "data": {
      "text/html": [
       "<div>\n",
       "<style scoped>\n",
       "    .dataframe tbody tr th:only-of-type {\n",
       "        vertical-align: middle;\n",
       "    }\n",
       "\n",
       "    .dataframe tbody tr th {\n",
       "        vertical-align: top;\n",
       "    }\n",
       "\n",
       "    .dataframe thead th {\n",
       "        text-align: right;\n",
       "    }\n",
       "</style>\n",
       "<table border=\"1\" class=\"dataframe\">\n",
       "  <thead>\n",
       "    <tr style=\"text-align: right;\">\n",
       "      <th></th>\n",
       "      <th>question1</th>\n",
       "      <th>question2</th>\n",
       "    </tr>\n",
       "  </thead>\n",
       "  <tbody>\n",
       "    <tr>\n",
       "      <th>339499</th>\n",
       "      <td>why was cyrus mistry removed as the chairman o...</td>\n",
       "      <td>why did the tata sons sacked cyrus mistry</td>\n",
       "    </tr>\n",
       "    <tr>\n",
       "      <th>289521</th>\n",
       "      <td>by what age would you think a man should be ma...</td>\n",
       "      <td>when my wrist is extended i feel a shock and b...</td>\n",
       "    </tr>\n",
       "    <tr>\n",
       "      <th>4665</th>\n",
       "      <td>how would an arbitrageur seek to capitalize gi...</td>\n",
       "      <td>how would an arbitrageur seek to capitalize gi...</td>\n",
       "    </tr>\n",
       "    <tr>\n",
       "      <th>54203</th>\n",
       "      <td>why did quora mark my question as incomplete</td>\n",
       "      <td>why does quora detect my question as an incomp...</td>\n",
       "    </tr>\n",
       "  </tbody>\n",
       "</table>\n",
       "</div>"
      ],
      "text/plain": [
       "                                                question1  \\\n",
       "339499  why was cyrus mistry removed as the chairman o...   \n",
       "289521  by what age would you think a man should be ma...   \n",
       "4665    how would an arbitrageur seek to capitalize gi...   \n",
       "54203        why did quora mark my question as incomplete   \n",
       "\n",
       "                                                question2  \n",
       "339499          why did the tata sons sacked cyrus mistry  \n",
       "289521  when my wrist is extended i feel a shock and b...  \n",
       "4665    how would an arbitrageur seek to capitalize gi...  \n",
       "54203   why does quora detect my question as an incomp...  "
      ]
     },
     "execution_count": 113,
     "metadata": {},
     "output_type": "execute_result"
    }
   ],
   "source": [
    "ques_df = new_df[['question1','question2']]\n",
    "ques_df.head(4)"
   ]
  },
  {
   "cell_type": "code",
   "execution_count": 114,
   "id": "4da5190a",
   "metadata": {},
   "outputs": [],
   "source": [
    "questions = list(ques_df['question1']) + list(ques_df['question2'])"
   ]
  },
  {
   "cell_type": "code",
   "execution_count": 115,
   "id": "d04ad3cc",
   "metadata": {},
   "outputs": [],
   "source": [
    "ques_sent = []\n",
    "for sentence in questions:\n",
    "    ques_sent.append(gensim.utils.simple_preprocess(sentence))"
   ]
  },
  {
   "cell_type": "code",
   "execution_count": 116,
   "id": "5845ebb7",
   "metadata": {},
   "outputs": [],
   "source": [
    "model  = gensim.models.Word2Vec(window=2,min_count=3,sg=1,vector_size=100)"
   ]
  },
  {
   "cell_type": "code",
   "execution_count": 117,
   "id": "5b9d76fb",
   "metadata": {},
   "outputs": [],
   "source": [
    "model.build_vocab(ques_sent)"
   ]
  },
  {
   "cell_type": "code",
   "execution_count": 118,
   "id": "fdadc92c",
   "metadata": {},
   "outputs": [
    {
     "data": {
      "text/plain": [
       "(2167267, 3140640)"
      ]
     },
     "execution_count": 118,
     "metadata": {},
     "output_type": "execute_result"
    }
   ],
   "source": [
    "model.train(corpus_iterable=ques_sent,total_examples= model.corpus_count, epochs=model.epochs)"
   ]
  },
  {
   "cell_type": "code",
   "execution_count": 119,
   "id": "77d80fa1",
   "metadata": {},
   "outputs": [],
   "source": [
    "w2v = dict(zip(model.wv.index_to_key, (model.wv.vectors.round(3))))"
   ]
  },
  {
   "cell_type": "code",
   "execution_count": 120,
   "id": "4176b0dc",
   "metadata": {},
   "outputs": [
    {
     "data": {
      "text/plain": [
       "array([-0.612,  0.025, -0.   , -0.189, -0.307, -0.261,  0.14 ,  0.554,\n",
       "        0.145, -0.582,  0.133, -0.611, -0.09 ,  0.018,  0.129, -0.106,\n",
       "        0.257, -0.251, -0.048, -0.423, -0.26 ,  0.35 , -0.2  , -0.031,\n",
       "        0.301,  0.038, -0.259, -0.067, -0.749, -0.181,  0.005, -0.023,\n",
       "        0.225, -0.505, -0.277,  0.403,  0.063, -0.215,  0.263, -0.306,\n",
       "       -0.141,  0.14 , -0.334, -0.637, -0.034, -0.022,  0.12 ,  0.21 ,\n",
       "        0.108,  0.218,  0.319, -0.172, -0.005,  0.132, -0.023,  0.093,\n",
       "        0.282, -0.4  , -0.228,  0.006,  0.321, -0.178,  0.499,  0.12 ,\n",
       "       -0.396,  0.416, -0.149, -0.012, -0.714,  0.311,  0.209,  0.516,\n",
       "        0.303, -0.176,  0.469, -0.09 , -0.186, -0.218, -0.162, -0.039,\n",
       "        0.016, -0.105, -0.646,  0.159, -0.251, -0.509,  0.334,  0.456,\n",
       "       -0.068,  0.145,  0.546,  0.38 ,  0.358, -0.054,  0.649,  0.626,\n",
       "       -0.097, -0.108, -0.304,  0.018], dtype=float32)"
      ]
     },
     "execution_count": 120,
     "metadata": {},
     "output_type": "execute_result"
    }
   ],
   "source": [
    "w2v['pakistan']"
   ]
  },
  {
   "cell_type": "code",
   "execution_count": 121,
   "id": "d0afdf49",
   "metadata": {},
   "outputs": [
    {
     "data": {
      "text/plain": [
       "array([-0.14 ,  0.07 , -0.192, -0.392, -0.351, -0.59 , -0.263,  0.481,\n",
       "        0.165, -0.681,  0.482, -0.471,  0.13 ,  0.512,  0.225,  0.391,\n",
       "       -0.181,  0.03 , -0.222, -0.506,  0.161,  0.163, -0.096, -0.004,\n",
       "        0.096, -0.208, -0.189, -0.056, -0.352,  0.041, -0.021, -0.31 ,\n",
       "        0.258, -0.932, -0.57 ,  0.508, -0.209,  0.028,  0.064, -0.393,\n",
       "        0.481,  0.29 , -0.21 , -0.54 ,  0.462,  0.063, -0.017, -0.133,\n",
       "        0.259, -0.092,  0.357, -0.57 , -0.008,  0.473,  0.02 , -0.221,\n",
       "        0.351, -0.781,  0.229, -0.403,  0.681, -0.052,  0.007,  0.354,\n",
       "       -0.414,  0.685, -0.183,  0.141, -0.475,  0.134,  0.418,  0.098,\n",
       "        0.221,  0.336,  0.501,  0.375, -0.313,  0.136, -0.169, -0.011,\n",
       "       -0.193,  0.053, -0.61 ,  0.002, -0.61 , -0.405, -0.185, -0.045,\n",
       "        0.23 ,  0.643,  0.175,  0.135,  0.368, -0.234,  0.478,  0.355,\n",
       "       -0.448, -0.089, -0.306,  0.565], dtype=float32)"
      ]
     },
     "execution_count": 121,
     "metadata": {},
     "output_type": "execute_result"
    }
   ],
   "source": [
    "w2v['india']"
   ]
  },
  {
   "cell_type": "code",
   "execution_count": 122,
   "id": "208c44fd",
   "metadata": {},
   "outputs": [],
   "source": [
    "from sklearn.feature_extraction.text import TfidfVectorizer"
   ]
  },
  {
   "cell_type": "code",
   "execution_count": 123,
   "id": "44e0b0a5",
   "metadata": {},
   "outputs": [],
   "source": [
    "tfidf1 = TfidfVectorizer()"
   ]
  },
  {
   "cell_type": "code",
   "execution_count": 124,
   "id": "12cafcc0",
   "metadata": {},
   "outputs": [
    {
     "data": {
      "text/plain": [
       "<60000x26168 sparse matrix of type '<class 'numpy.float64'>'\n",
       "\twith 605290 stored elements in Compressed Sparse Row format>"
      ]
     },
     "execution_count": 124,
     "metadata": {},
     "output_type": "execute_result"
    }
   ],
   "source": [
    "tfidf1.fit_transform(questions)"
   ]
  },
  {
   "cell_type": "code",
   "execution_count": 125,
   "id": "d55a2f0c",
   "metadata": {},
   "outputs": [],
   "source": [
    "a = tfidf1.vocabulary_.items()"
   ]
  },
  {
   "cell_type": "code",
   "execution_count": 126,
   "id": "6f639809",
   "metadata": {},
   "outputs": [],
   "source": [
    "word2weight = [(w, round(tfidf1.idf_[i])) for w, i in tfidf1.vocabulary_.items()]"
   ]
  },
  {
   "cell_type": "code",
   "execution_count": 127,
   "id": "db4c2da8",
   "metadata": {},
   "outputs": [],
   "source": [
    "word2weight = dict(word2weight)"
   ]
  },
  {
   "cell_type": "code",
   "execution_count": 128,
   "id": "90bedd11",
   "metadata": {},
   "outputs": [
    {
     "data": {
      "text/plain": [
       "[('russia', 0.8999234437942505),\n",
       " ('china', 0.8936740159988403),\n",
       " ('south', 0.8521349430084229),\n",
       " ('korea', 0.8484773635864258),\n",
       " ('relations', 0.847938060760498),\n",
       " ('japan', 0.8470012545585632),\n",
       " ('europe', 0.8461410999298096),\n",
       " ('vietnam', 0.8397872447967529),\n",
       " ('north', 0.8371185660362244),\n",
       " ('nuclear', 0.8362182974815369),\n",
       " ('military', 0.8312198519706726),\n",
       " ('africa', 0.829288125038147),\n",
       " ('asia', 0.8254243731498718),\n",
       " ('bangladesh', 0.8183507919311523),\n",
       " ('malaysia', 0.8160591125488281)]"
      ]
     },
     "execution_count": 128,
     "metadata": {},
     "output_type": "execute_result"
    }
   ],
   "source": [
    "model.wv.similar_by_word('pakistan',topn=15)"
   ]
  },
  {
   "cell_type": "code",
   "execution_count": 129,
   "id": "9db4103c",
   "metadata": {},
   "outputs": [
    {
     "data": {
      "text/plain": [
       "[('actress', 0.9186648726463318),\n",
       " ('film', 0.8912929892539978),\n",
       " ('anime', 0.8866848349571228),\n",
       " ('comedy', 0.8836644291877747),\n",
       " ('soccer', 0.8834263682365417),\n",
       " ('inspirational', 0.8778414726257324),\n",
       " ('sexiest', 0.8775463104248047),\n",
       " ('player', 0.876923143863678),\n",
       " ('spiritual', 0.8762649297714233),\n",
       " ('malayalam', 0.8730223774909973),\n",
       " ('scenes', 0.8726590871810913),\n",
       " ('hollywood', 0.8707504868507385),\n",
       " ('team', 0.8681944012641907),\n",
       " ('inspiring', 0.8681011199951172),\n",
       " ('comic', 0.8676729798316956)]"
      ]
     },
     "execution_count": 129,
     "metadata": {},
     "output_type": "execute_result"
    }
   ],
   "source": [
    "model.wv.similar_by_word('actor',topn=15)"
   ]
  },
  {
   "cell_type": "code",
   "execution_count": 157,
   "id": "113905eb",
   "metadata": {},
   "outputs": [],
   "source": [
    "# def document_vector(doc):\n",
    "#     if len(doc.split()) == 0:\n",
    "#         return np.zeros(shape=(100))\n",
    "#     elif len(doc.split()) == 1:\n",
    "#         return np.zeros(shape=(100))\n",
    "#     else:\n",
    "# #         doc = [word for word in doc.split() if word in model.wv.index_to_key]\n",
    "# #         return np.mean(model.wv[doc],axis=0).round(2)\n",
    "#         doc_vec = []\n",
    "#         tfidf_weight_sum = 0\n",
    "#         for word in doc.split():\n",
    "#             if word in w2v.keys() and word in word2weight.keys():\n",
    "#                 tfidf_weight = word2weight[word]*doc.split().count(word)/len(doc.split())\n",
    "#                 product = (w2v[word]*tfidf_weight)\n",
    "#                 doc_vec.append(product)\n",
    "#                 tfidf_weight_sum = tfidf_weight_sum + tfidf_weight\n",
    "#                 #print(f\"weight of {word} : {word2weight[word]}\")\n",
    "#                 #print(f\"word vector of {word} : {w2v[word]}\")\n",
    "#                 #print(product)\\n\",\n",
    "#         #print(doc_vec)\n",
    "#         if len(doc_vec) == 0:\n",
    "#             return np.round(np.sum(doc_vec,axis=0)/1,3)\n",
    "#         else:\n",
    "#             return np.round(np.sum(doc_vec,axis=0)/tfidf_weight_sum,3)\n",
    "\n",
    "def document_vector(doc):\n",
    "    if len(doc.split()) == 0:\n",
    "        return np.zeros(shape=(100))\n",
    "    elif len(doc.split()) == 1:\n",
    "        return np.zeros(shape=(100))\n",
    "    else:\n",
    "        doc_vec = []\n",
    "        tfidf_weight_sum = 0\n",
    "        for word in doc.split():\n",
    "            if word in w2v.keys() and word in word2weight.keys():\n",
    "                tfidf_weight = word2weight[word] * doc.split().count(word) / len(doc.split())\n",
    "                product = (w2v[word] * tfidf_weight)\n",
    "                doc_vec.append(product)\n",
    "                tfidf_weight_sum = tfidf_weight_sum + tfidf_weight\n",
    "        \n",
    "        if len(doc_vec) == 0:\n",
    "            return np.zeros(shape=(100))  # Return zeros if no valid word vectors are found\n",
    "        else:\n",
    "            return np.round(np.sum(doc_vec, axis=0) / tfidf_weight_sum, 3)"
   ]
  },
  {
   "cell_type": "code",
   "execution_count": 158,
   "id": "92202747",
   "metadata": {},
   "outputs": [],
   "source": [
    "from tqdm import tqdm"
   ]
  },
  {
   "cell_type": "code",
   "execution_count": 159,
   "id": "2d2288ac",
   "metadata": {},
   "outputs": [
    {
     "name": "stderr",
     "output_type": "stream",
     "text": [
      "100%|██████████| 30000/30000 [00:01<00:00, 17933.53it/s]\n"
     ]
    }
   ],
   "source": [
    "X = []\n",
    "for doc in tqdm(ques_df['question1']):\n",
    "    X.append(document_vector(doc))"
   ]
  },
  {
   "cell_type": "code",
   "execution_count": 160,
   "id": "92b5e397",
   "metadata": {},
   "outputs": [
    {
     "name": "stderr",
     "output_type": "stream",
     "text": [
      "100%|██████████| 30000/30000 [00:01<00:00, 16886.13it/s]\n"
     ]
    }
   ],
   "source": [
    "X2 = []\n",
    "for doc in tqdm(ques_df['question2']):\n",
    "    X2.append(document_vector(doc))"
   ]
  },
  {
   "cell_type": "code",
   "execution_count": 161,
   "id": "e5585edb",
   "metadata": {},
   "outputs": [
    {
     "data": {
      "text/plain": [
       "(100,)"
      ]
     },
     "execution_count": 161,
     "metadata": {},
     "output_type": "execute_result"
    }
   ],
   "source": [
    "X[6].shape"
   ]
  },
  {
   "cell_type": "code",
   "execution_count": 162,
   "id": "f524c945",
   "metadata": {},
   "outputs": [
    {
     "name": "stderr",
     "output_type": "stream",
     "text": [
      "100%|██████████| 30000/30000 [00:02<00:00, 12557.89it/s]\n"
     ]
    }
   ],
   "source": [
    "import numpy as np\n",
    "\n",
    "max_length = 100  # Choose the maximum length for your vectors\n",
    "X = []\n",
    "\n",
    "for doc in tqdm(ques_df['question1']):\n",
    "    vector = document_vector(doc)\n",
    "    padded_vector = np.pad(vector, (0, max_length - len(vector)), mode='constant')\n",
    "    X.append(padded_vector)\n",
    "\n",
    "X = np.array(X)"
   ]
  },
  {
   "cell_type": "code",
   "execution_count": 163,
   "id": "0c73f85e",
   "metadata": {},
   "outputs": [],
   "source": [
    "X = np.array(X)"
   ]
  },
  {
   "cell_type": "code",
   "execution_count": 164,
   "id": "b4e5f6c8",
   "metadata": {},
   "outputs": [],
   "source": [
    "X2 = np.array(X2)"
   ]
  },
  {
   "cell_type": "code",
   "execution_count": 165,
   "id": "cb221d1e",
   "metadata": {},
   "outputs": [],
   "source": [
    "temp_df1 = pd.DataFrame(X, index= new_df.index)\n",
    "temp_df2 = pd.DataFrame(X2, index= new_df.index)\n",
    "temp_df = pd.concat([temp_df1, temp_df2], axis=1)"
   ]
  },
  {
   "cell_type": "code",
   "execution_count": 166,
   "id": "a004dc81",
   "metadata": {},
   "outputs": [
    {
     "data": {
      "text/plain": [
       "(30000, 200)"
      ]
     },
     "execution_count": 166,
     "metadata": {},
     "output_type": "execute_result"
    }
   ],
   "source": [
    "temp_df.shape"
   ]
  },
  {
   "cell_type": "code",
   "execution_count": 167,
   "id": "0f619c21",
   "metadata": {},
   "outputs": [
    {
     "name": "stdout",
     "output_type": "stream",
     "text": [
      "(30000, 23)\n"
     ]
    }
   ],
   "source": [
    "final_df = new_df.drop(columns=['id','qid1','qid2','question1','question2'])\n",
    "print(final_df.shape)"
   ]
  },
  {
   "cell_type": "code",
   "execution_count": 168,
   "id": "3cfd99c7",
   "metadata": {},
   "outputs": [
    {
     "name": "stdout",
     "output_type": "stream",
     "text": [
      "(30000, 223)\n"
     ]
    },
    {
     "data": {
      "text/html": [
       "<div>\n",
       "<style scoped>\n",
       "    .dataframe tbody tr th:only-of-type {\n",
       "        vertical-align: middle;\n",
       "    }\n",
       "\n",
       "    .dataframe tbody tr th {\n",
       "        vertical-align: top;\n",
       "    }\n",
       "\n",
       "    .dataframe thead th {\n",
       "        text-align: right;\n",
       "    }\n",
       "</style>\n",
       "<table border=\"1\" class=\"dataframe\">\n",
       "  <thead>\n",
       "    <tr style=\"text-align: right;\">\n",
       "      <th></th>\n",
       "      <th>is_duplicate</th>\n",
       "      <th>q1_len</th>\n",
       "      <th>q2_len</th>\n",
       "      <th>q1_num_words</th>\n",
       "      <th>q2_num_words</th>\n",
       "      <th>word_common</th>\n",
       "      <th>word_total</th>\n",
       "      <th>word_share</th>\n",
       "      <th>cwc_min</th>\n",
       "      <th>cwc_max</th>\n",
       "      <th>...</th>\n",
       "      <th>90</th>\n",
       "      <th>91</th>\n",
       "      <th>92</th>\n",
       "      <th>93</th>\n",
       "      <th>94</th>\n",
       "      <th>95</th>\n",
       "      <th>96</th>\n",
       "      <th>97</th>\n",
       "      <th>98</th>\n",
       "      <th>99</th>\n",
       "    </tr>\n",
       "  </thead>\n",
       "  <tbody>\n",
       "    <tr>\n",
       "      <th>339499</th>\n",
       "      <td>1</td>\n",
       "      <td>57</td>\n",
       "      <td>41</td>\n",
       "      <td>11</td>\n",
       "      <td>8</td>\n",
       "      <td>6</td>\n",
       "      <td>19</td>\n",
       "      <td>0.32</td>\n",
       "      <td>0.799984</td>\n",
       "      <td>0.666656</td>\n",
       "      <td>...</td>\n",
       "      <td>0.369</td>\n",
       "      <td>0.084</td>\n",
       "      <td>0.012</td>\n",
       "      <td>0.374</td>\n",
       "      <td>0.528</td>\n",
       "      <td>0.178</td>\n",
       "      <td>-0.067</td>\n",
       "      <td>-0.138</td>\n",
       "      <td>0.235</td>\n",
       "      <td>-0.029</td>\n",
       "    </tr>\n",
       "    <tr>\n",
       "      <th>289521</th>\n",
       "      <td>0</td>\n",
       "      <td>51</td>\n",
       "      <td>104</td>\n",
       "      <td>11</td>\n",
       "      <td>23</td>\n",
       "      <td>3</td>\n",
       "      <td>33</td>\n",
       "      <td>0.09</td>\n",
       "      <td>0.000000</td>\n",
       "      <td>0.000000</td>\n",
       "      <td>...</td>\n",
       "      <td>0.187</td>\n",
       "      <td>0.120</td>\n",
       "      <td>0.076</td>\n",
       "      <td>0.129</td>\n",
       "      <td>0.362</td>\n",
       "      <td>0.042</td>\n",
       "      <td>0.213</td>\n",
       "      <td>0.041</td>\n",
       "      <td>0.215</td>\n",
       "      <td>0.013</td>\n",
       "    </tr>\n",
       "    <tr>\n",
       "      <th>4665</th>\n",
       "      <td>0</td>\n",
       "      <td>123</td>\n",
       "      <td>122</td>\n",
       "      <td>42</td>\n",
       "      <td>42</td>\n",
       "      <td>18</td>\n",
       "      <td>38</td>\n",
       "      <td>0.47</td>\n",
       "      <td>0.923070</td>\n",
       "      <td>0.923070</td>\n",
       "      <td>...</td>\n",
       "      <td>0.193</td>\n",
       "      <td>0.090</td>\n",
       "      <td>0.061</td>\n",
       "      <td>0.032</td>\n",
       "      <td>0.346</td>\n",
       "      <td>0.155</td>\n",
       "      <td>-0.033</td>\n",
       "      <td>-0.133</td>\n",
       "      <td>0.161</td>\n",
       "      <td>-0.040</td>\n",
       "    </tr>\n",
       "    <tr>\n",
       "      <th>54203</th>\n",
       "      <td>1</td>\n",
       "      <td>44</td>\n",
       "      <td>59</td>\n",
       "      <td>8</td>\n",
       "      <td>10</td>\n",
       "      <td>6</td>\n",
       "      <td>18</td>\n",
       "      <td>0.33</td>\n",
       "      <td>0.749981</td>\n",
       "      <td>0.599988</td>\n",
       "      <td>...</td>\n",
       "      <td>0.380</td>\n",
       "      <td>0.273</td>\n",
       "      <td>-0.130</td>\n",
       "      <td>0.202</td>\n",
       "      <td>0.678</td>\n",
       "      <td>0.169</td>\n",
       "      <td>0.043</td>\n",
       "      <td>-0.046</td>\n",
       "      <td>0.014</td>\n",
       "      <td>-0.006</td>\n",
       "    </tr>\n",
       "    <tr>\n",
       "      <th>132566</th>\n",
       "      <td>0</td>\n",
       "      <td>53</td>\n",
       "      <td>39</td>\n",
       "      <td>11</td>\n",
       "      <td>9</td>\n",
       "      <td>6</td>\n",
       "      <td>20</td>\n",
       "      <td>0.30</td>\n",
       "      <td>0.749981</td>\n",
       "      <td>0.599988</td>\n",
       "      <td>...</td>\n",
       "      <td>0.183</td>\n",
       "      <td>0.188</td>\n",
       "      <td>0.281</td>\n",
       "      <td>0.134</td>\n",
       "      <td>0.420</td>\n",
       "      <td>0.078</td>\n",
       "      <td>0.132</td>\n",
       "      <td>-0.007</td>\n",
       "      <td>0.102</td>\n",
       "      <td>-0.043</td>\n",
       "    </tr>\n",
       "  </tbody>\n",
       "</table>\n",
       "<p>5 rows × 223 columns</p>\n",
       "</div>"
      ],
      "text/plain": [
       "        is_duplicate  q1_len  q2_len  q1_num_words  q2_num_words  word_common  \\\n",
       "339499             1      57      41            11             8            6   \n",
       "289521             0      51     104            11            23            3   \n",
       "4665               0     123     122            42            42           18   \n",
       "54203              1      44      59             8            10            6   \n",
       "132566             0      53      39            11             9            6   \n",
       "\n",
       "        word_total  word_share   cwc_min   cwc_max  ...     90     91     92  \\\n",
       "339499          19        0.32  0.799984  0.666656  ...  0.369  0.084  0.012   \n",
       "289521          33        0.09  0.000000  0.000000  ...  0.187  0.120  0.076   \n",
       "4665            38        0.47  0.923070  0.923070  ...  0.193  0.090  0.061   \n",
       "54203           18        0.33  0.749981  0.599988  ...  0.380  0.273 -0.130   \n",
       "132566          20        0.30  0.749981  0.599988  ...  0.183  0.188  0.281   \n",
       "\n",
       "           93     94     95     96     97     98     99  \n",
       "339499  0.374  0.528  0.178 -0.067 -0.138  0.235 -0.029  \n",
       "289521  0.129  0.362  0.042  0.213  0.041  0.215  0.013  \n",
       "4665    0.032  0.346  0.155 -0.033 -0.133  0.161 -0.040  \n",
       "54203   0.202  0.678  0.169  0.043 -0.046  0.014 -0.006  \n",
       "132566  0.134  0.420  0.078  0.132 -0.007  0.102 -0.043  \n",
       "\n",
       "[5 rows x 223 columns]"
      ]
     },
     "execution_count": 168,
     "metadata": {},
     "output_type": "execute_result"
    }
   ],
   "source": [
    "complete_df = pd.concat([final_df, temp_df], axis=1)\n",
    "print(complete_df.shape)\n",
    "complete_df.head()"
   ]
  },
  {
   "cell_type": "code",
   "execution_count": 169,
   "id": "0410be67",
   "metadata": {},
   "outputs": [],
   "source": [
    "from sklearn.model_selection import train_test_split\n",
    "\n",
    "X_train,X_test,y_train,y_test = train_test_split(complete_df.iloc[:,1:].values,complete_df.iloc[:,0].values,test_size=0.2,random_state=1)"
   ]
  },
  {
   "cell_type": "code",
   "execution_count": 175,
   "id": "4e24dfe5",
   "metadata": {},
   "outputs": [],
   "source": [
    "from sklearn.preprocessing import StandardScaler\n",
    "scaler = StandardScaler()\n",
    "scaler.fit(X_train)\n",
    "X_train_stdscaled = scaler.transform(X_train)\n",
    "X_test_stdscaled = scaler.transform(X_test)"
   ]
  },
  {
   "cell_type": "code",
   "execution_count": 176,
   "id": "bf6760cc",
   "metadata": {},
   "outputs": [],
   "source": [
    "# Reshape the input data for LSTM\n",
    "X_train_lstm = np.reshape(X_train_stdscaled, (X_train_stdscaled.shape[0], X_train_stdscaled.shape[1], 1))\n",
    "X_test_lstm = np.reshape(X_test_stdscaled, (X_test_stdscaled.shape[0], X_test_stdscaled.shape[1], 1))"
   ]
  },
  {
   "cell_type": "code",
   "execution_count": 177,
   "id": "c6985dc0",
   "metadata": {},
   "outputs": [],
   "source": [
    "# Define the BiLSTM model\n",
    "bilstm_model = Sequential()\n",
    "bilstm_model.add(Bidirectional(LSTM(128), input_shape=(X_train_lstm.shape[1], 1)))\n",
    "bilstm_model.add(Dense(1, activation='sigmoid'))"
   ]
  },
  {
   "cell_type": "code",
   "execution_count": 178,
   "id": "d775630c",
   "metadata": {},
   "outputs": [],
   "source": [
    "# Compile the model\n",
    "bilstm_model.compile(loss='binary_crossentropy', optimizer='adam', metrics=['accuracy'])"
   ]
  },
  {
   "cell_type": "code",
   "execution_count": 179,
   "id": "aa1361c3",
   "metadata": {},
   "outputs": [
    {
     "name": "stdout",
     "output_type": "stream",
     "text": [
      "Epoch 1/10\n",
      "375/375 [==============================] - 679s 2s/step - loss: 0.5482 - accuracy: 0.6817 - val_loss: 0.5328 - val_accuracy: 0.6868\n",
      "Epoch 2/10\n",
      "375/375 [==============================] - 663s 2s/step - loss: 0.5297 - accuracy: 0.6954 - val_loss: 0.5226 - val_accuracy: 0.7043\n",
      "Epoch 3/10\n",
      "375/375 [==============================] - 666s 2s/step - loss: 0.5162 - accuracy: 0.7053 - val_loss: 0.5102 - val_accuracy: 0.7075\n",
      "Epoch 4/10\n",
      "375/375 [==============================] - 654s 2s/step - loss: 0.5037 - accuracy: 0.7158 - val_loss: 0.4961 - val_accuracy: 0.7202\n",
      "Epoch 5/10\n",
      "375/375 [==============================] - 658s 2s/step - loss: 0.4950 - accuracy: 0.7242 - val_loss: 0.4852 - val_accuracy: 0.7287\n",
      "Epoch 6/10\n",
      "375/375 [==============================] - 686s 2s/step - loss: 0.4862 - accuracy: 0.7292 - val_loss: 0.4749 - val_accuracy: 0.7327\n",
      "Epoch 7/10\n",
      "375/375 [==============================] - 678s 2s/step - loss: 0.4794 - accuracy: 0.7371 - val_loss: 0.4682 - val_accuracy: 0.7467\n",
      "Epoch 8/10\n",
      "375/375 [==============================] - 690s 2s/step - loss: 0.4730 - accuracy: 0.7422 - val_loss: 0.4689 - val_accuracy: 0.7432\n",
      "Epoch 9/10\n",
      "375/375 [==============================] - 726s 2s/step - loss: 0.4662 - accuracy: 0.7499 - val_loss: 0.4621 - val_accuracy: 0.7555\n",
      "Epoch 10/10\n",
      "375/375 [==============================] - 695s 2s/step - loss: 0.4579 - accuracy: 0.7553 - val_loss: 0.4530 - val_accuracy: 0.7568\n"
     ]
    }
   ],
   "source": [
    "# Train the BiLSTM model\n",
    "hist = bilstm_model.fit(X_train_lstm, y_train, epochs=10, batch_size=64,validation_data=(X_test_lstm, y_test))"
   ]
  },
  {
   "cell_type": "code",
   "execution_count": 180,
   "id": "54cdbd7a",
   "metadata": {},
   "outputs": [
    {
     "data": {
      "image/png": "[encoded data removed]",
      "text/plain": [
       "<Figure size 640x480 with 1 Axes>"
      ]
     },
     "metadata": {},
     "output_type": "display_data"
    },
    {
     "data": {
      "image/png": "[encoded data removed]",
      "text/plain": [
       "<Figure size 640x480 with 1 Axes>"
      ]
     },
     "metadata": {},
     "output_type": "display_data"
    }
   ],
   "source": [
    "# Plot the training history\n",
    "plt.plot(hist.history['accuracy'])\n",
    "plt.plot(hist.history['val_accuracy'])\n",
    "plt.title('BiLSTM Model Accuracy')\n",
    "plt.xlabel('Epoch')\n",
    "plt.ylabel('Accuracy')\n",
    "plt.legend(['Train', 'Validation'], loc='upper left')\n",
    "plt.show()\n",
    "\n",
    "plt.plot(hist.history['loss'])\n",
    "plt.plot(hist.history['val_loss'])\n",
    "plt.title('BiLSTM Model Loss')\n",
    "plt.xlabel('Epoch')\n",
    "plt.ylabel('Loss')\n",
    "plt.legend(['Train', 'Validation'], loc='upper right')\n",
    "plt.show()"
   ]
  },
  {
   "cell_type": "code",
   "execution_count": 181,
   "id": "41872edf",
   "metadata": {},
   "outputs": [
    {
     "name": "stdout",
     "output_type": "stream",
     "text": [
      "188/188 [==============================] - 13s 64ms/step\n"
     ]
    }
   ],
   "source": [
    "# Predict on the test data\n",
    "y_pred_bilstm = bilstm_model.predict(X_test_lstm)\n",
    "\n",
    "# Convert the predicted values to 1D array\n",
    "y_pred_bilstm = np.squeeze(y_pred_bilstm)"
   ]
  },
  {
   "cell_type": "code",
   "execution_count": 182,
   "id": "5a1a9c4a",
   "metadata": {},
   "outputs": [],
   "source": [
    "# Convert y_test to binary format\n",
    "threshold = 0.5\n",
    "y_test_binary = np.array(y_test > threshold, dtype=int)\n",
    "y_pred_bilstm = np.array(y_pred_bilstm > threshold, dtype=int)"
   ]
  },
  {
   "cell_type": "code",
   "execution_count": 183,
   "id": "9feed027",
   "metadata": {},
   "outputs": [
    {
     "name": "stdout",
     "output_type": "stream",
     "text": [
      "Accuracy: 0.7568333333333334\n"
     ]
    }
   ],
   "source": [
    "# Calculate accuracy\n",
    "accuracy = accuracy_score(y_test_binary, y_pred_bilstm)\n",
    "print(\"Accuracy:\", accuracy)"
   ]
  },
  {
   "cell_type": "code",
   "execution_count": 184,
   "id": "caab6eea",
   "metadata": {},
   "outputs": [
    {
     "data": {
      "text/html": [
       "<div>\n",
       "<style scoped>\n",
       "    .dataframe tbody tr th:only-of-type {\n",
       "        vertical-align: middle;\n",
       "    }\n",
       "\n",
       "    .dataframe tbody tr th {\n",
       "        vertical-align: top;\n",
       "    }\n",
       "\n",
       "    .dataframe thead th {\n",
       "        text-align: right;\n",
       "    }\n",
       "</style>\n",
       "<table border=\"1\" class=\"dataframe\">\n",
       "  <thead>\n",
       "    <tr style=\"text-align: right;\">\n",
       "      <th></th>\n",
       "      <th>question1</th>\n",
       "      <th>question2</th>\n",
       "    </tr>\n",
       "  </thead>\n",
       "  <tbody>\n",
       "    <tr>\n",
       "      <th>54203</th>\n",
       "      <td>why did quora mark my question as incomplete</td>\n",
       "      <td>why does quora detect my question as an incomp...</td>\n",
       "    </tr>\n",
       "    <tr>\n",
       "      <th>179825</th>\n",
       "      <td>what do you consider poor  middle class  wealt...</td>\n",
       "      <td>what is the difference between the poor  middl...</td>\n",
       "    </tr>\n",
       "    <tr>\n",
       "      <th>296326</th>\n",
       "      <td>what movie should you not watch with your chil...</td>\n",
       "      <td>as your children get to an age where they are ...</td>\n",
       "    </tr>\n",
       "    <tr>\n",
       "      <th>45865</th>\n",
       "      <td>do women enjoy double penetration</td>\n",
       "      <td>which type of porn do ladies enjoy watching</td>\n",
       "    </tr>\n",
       "    <tr>\n",
       "      <th>335353</th>\n",
       "      <td>why is jayalalithaa so famous</td>\n",
       "      <td>why is jayalalithaa famous</td>\n",
       "    </tr>\n",
       "  </tbody>\n",
       "</table>\n",
       "</div>"
      ],
      "text/plain": [
       "                                                question1  \\\n",
       "54203        why did quora mark my question as incomplete   \n",
       "179825  what do you consider poor  middle class  wealt...   \n",
       "296326  what movie should you not watch with your chil...   \n",
       "45865                   do women enjoy double penetration   \n",
       "335353                      why is jayalalithaa so famous   \n",
       "\n",
       "                                                question2  \n",
       "54203   why does quora detect my question as an incomp...  \n",
       "179825  what is the difference between the poor  middl...  \n",
       "296326  as your children get to an age where they are ...  \n",
       "45865         which type of porn do ladies enjoy watching  \n",
       "335353                         why is jayalalithaa famous  "
      ]
     },
     "execution_count": 184,
     "metadata": {},
     "output_type": "execute_result"
    }
   ],
   "source": [
    "# Get the indices of misclassified and correctly classified examples\n",
    "bilstm_misclassified_indices = np.where(y_pred_bilstm != y_test)[0]\n",
    "bilstm_correct_indices = np.where(y_pred_bilstm == y_test)[0]\n",
    "\n",
    "# Get the corresponding sentences for misclassified examples\n",
    "bilstm_misclassified_sentences = new_df.iloc[bilstm_misclassified_indices][['question1', 'question2']]\n",
    "\n",
    "# Get the corresponding sentences for correctly classified examples\n",
    "bilstm_correct_sentences = new_df.iloc[bilstm_correct_indices][['question1', 'question2']]\n",
    "\n",
    "bilstm_misclassified_sentences = pd.DataFrame(bilstm_misclassified_sentences)\n",
    "bilstm_correct_classified_sentences = pd.DataFrame(bilstm_correct_sentences)\n",
    "bilstm_misclassified_sentences.head()"
   ]
  },
  {
   "cell_type": "code",
   "execution_count": 185,
   "id": "1586eaa4",
   "metadata": {},
   "outputs": [
    {
     "name": "stdout",
     "output_type": "stream",
     "text": [
      "Confusion Matrix:\n",
      "[[2947  880]\n",
      " [ 579 1594]]\n"
     ]
    },
    {
     "data": {
      "image/png": "[encoded data removed]",
      "text/plain": [
       "<Figure size 640x480 with 2 Axes>"
      ]
     },
     "metadata": {},
     "output_type": "display_data"
    }
   ],
   "source": [
    "# Calculate the confusion matrix\n",
    "cm = confusion_matrix(y_test_binary, y_pred_bilstm)\n",
    "print(\"Confusion Matrix:\")\n",
    "print(cm)\n",
    "\n",
    "# Create a heatmap of the confusion matrix\n",
    "sns.heatmap(cm, annot=True, fmt='d')\n",
    "plt.xlabel('Predicted Labels')\n",
    "plt.ylabel('True Labels')\n",
    "plt.title('Confusion Matrix')\n",
    "plt.show()"
   ]
  },
  {
   "cell_type": "code",
   "execution_count": 186,
   "id": "0100f2d1",
   "metadata": {},
   "outputs": [
    {
     "name": "stdout",
     "output_type": "stream",
     "text": [
      "Precision: 0.6443007275666937\n",
      "Recall: 0.7335480901978831\n"
     ]
    }
   ],
   "source": [
    "# Calculate precision and recall\n",
    "precision = precision_score(y_test, y_pred_bilstm)\n",
    "recall = recall_score(y_test, y_pred_bilstm)\n",
    "\n",
    "print(\"Precision:\", precision)\n",
    "print(\"Recall:\", recall)"
   ]
  },
  {
   "cell_type": "code",
   "execution_count": 187,
   "id": "dbdbe0cf",
   "metadata": {},
   "outputs": [
    {
     "name": "stdout",
     "output_type": "stream",
     "text": [
      "              precision    recall  f1-score   support\n",
      "\n",
      "           0       0.84      0.77      0.80      3827\n",
      "           1       0.64      0.73      0.69      2173\n",
      "\n",
      "    accuracy                           0.76      6000\n",
      "   macro avg       0.74      0.75      0.74      6000\n",
      "weighted avg       0.77      0.76      0.76      6000\n",
      "\n"
     ]
    }
   ],
   "source": [
    "# Generate classification report\n",
    "report = classification_report(y_test, y_pred_bilstm)\n",
    "print(report)"
   ]
  },
  {
   "cell_type": "code",
   "execution_count": 188,
   "id": "9df4889f",
   "metadata": {},
   "outputs": [],
   "source": [
    "bilstm_model.save('bilstm_model.h5')"
   ]
  },
  {
   "cell_type": "code",
   "execution_count": null,
   "id": "32a6be09",
   "metadata": {},
   "outputs": [],
   "source": []
  },
  {
   "cell_type": "code",
   "execution_count": null,
   "id": "41924451",
   "metadata": {},
   "outputs": [],
   "source": []
  }
 ],
 "metadata": {
  "kernelspec": {
   "display_name": "Python 3 (ipykernel)",
   "language": "python",
   "name": "python3"
  },
  "language_info": {
   "codemirror_mode": {
    "name": "ipython",
    "version": 3
   },
   "file_extension": ".py",
   "mimetype": "text/x-python",
   "name": "python",
   "nbconvert_exporter": "python",
   "pygments_lexer": "ipython3",
   "version": "3.10.9"
  }
 },
 "nbformat": 4,
 "nbformat_minor": 5
}
